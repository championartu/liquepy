{
 "cells": [
  {
   "cell_type": "markdown",
   "metadata": {
    "collapsed": true
   },
   "source": [
    "Authors: M. D. L. Millen, S. Rios, J. Quintero, A. Viana da Fonseca\n",
    "\n",
    "# Estimate Cumulative absolute strain energy (CASE) with depth\n",
    "\n",
    "This file provides an example of estimating the cumulative absolute change in strain energy down the depth of \n",
    "a soil profile according to the procedure from Millen et al. (2019) and compares the results to linear site response analysis.\n",
    "\n",
    "The estimate is performed using the base input motion, and then repeated using the surface motion.\n"
   ]
  },
  {
   "cell_type": "markdown",
   "metadata": {},
   "source": [
    "### Load inline plotting and auto-reload commands"
   ]
  },
  {
   "cell_type": "code",
   "execution_count": 1,
   "metadata": {
    "pycharm": {
     "is_executing": false
    }
   },
   "outputs": [],
   "source": [
    "%load_ext autoreload\n",
    "%autoreload 2\n",
    "%matplotlib inline"
   ]
  },
  {
   "cell_type": "code",
   "execution_count": 2,
   "metadata": {
    "pycharm": {
     "is_executing": false
    }
   },
   "outputs": [],
   "source": [
    "import numpy as np\n",
    "import pysra  # site response analysis package\n",
    "import eqsig  # signal processing package\n",
    "import sfsimodels as sm  # soil objects package\n",
    "\n",
    "import liquepy as lq\n",
    "\n",
    "# plotting\n",
    "import matplotlib.pyplot as plt\n",
    "from bwplot import cbox\n",
    "import engformat as ef\n",
    "plt.rcParams['savefig.dpi'] = 300\n",
    "\n",
    "# Makes the plot edges white\n",
    "import seaborn as sns\n",
    "sns.set_context('notebook')\n",
    "sns.set_style('white')"
   ]
  },
  {
   "cell_type": "markdown",
   "metadata": {},
   "source": [
    "## Define a function to run a site response analysis\n"
   ]
  },
  {
   "cell_type": "code",
   "execution_count": 3,
   "metadata": {
    "pycharm": {
     "is_executing": false
    }
   },
   "outputs": [],
   "source": [
    "def run_sra(sp, m, odepths, analysis=\"linear\", d_inc=None):\n",
    "    \"\"\"\n",
    "    Conduct a site response analysis\n",
    "    \n",
    "    Parameters\n",
    "    ----------\n",
    "    sp: sm.SoilProfile object\n",
    "    m: pysra.Motion object\n",
    "    odepths: array_like\n",
    "        Depths for outputting results\n",
    "    analysis: str\n",
    "        Analysis type (equivalent linear or linear)\n",
    "    d_inc: float\n",
    "        depth increment to discretize soil material behaviour\n",
    "\n",
    "    Returns\n",
    "    -------\n",
    "\n",
    "    \"\"\"\n",
    "    if d_inc is None:\n",
    "        d_inc = np.ones(sp.n_layers)\n",
    "\n",
    "    profile = lq.sra.sm_profile_to_pysra(sp, d_inc=d_inc)\n",
    "    if analysis == \"linear\":\n",
    "        calc = pysra.propagation.LinearElasticCalculator()\n",
    "    else:\n",
    "        calc = pysra.propagation.EquivalentLinearCalculator()\n",
    "    od = {}\n",
    "    outs = []\n",
    "    for i, depth in enumerate(odepths):\n",
    "        od[\"upACCX_d%i\" % i] = len(outs)\n",
    "        outs.append(pysra.output.AccelerationTSOutput(pysra.output.OutputLocation('incoming_only', depth=depth)))\n",
    "        od[\"ACCX_d%i\" % i] = len(outs)\n",
    "        outs.append(pysra.output.AccelerationTSOutput(pysra.output.OutputLocation('within', depth=depth)))\n",
    "        od[\"STRS_d%i\" % i] = len(outs)\n",
    "        outs.append(pysra.output.StrainTSOutput(pysra.output.OutputLocation('within', depth=depth), in_percent=False))\n",
    "        od[\"TAU_d%i\" % i] = len(outs)\n",
    "        outs.append(pysra.output.StressTSOutput(pysra.output.OutputLocation('within', depth=depth),\n",
    "                                                normalized=False))\n",
    "\n",
    "    outputs = pysra.output.OutputCollection(outs)\n",
    "\n",
    "    # Perform the calculation\n",
    "    calc(m, profile, profile.location('outcrop', depth=sp.height))\n",
    "    outputs(calc)\n",
    "\n",
    "    out_series = {}\n",
    "    for item in od:\n",
    "        if \"TAU\" in item:\n",
    "            out_series[item] = outputs[od[item]].values\n",
    "        else:\n",
    "            out_series[item] = outputs[od[item]].values\n",
    "\n",
    "    return out_series, profile, calc"
   ]
  },
  {
   "cell_type": "markdown",
   "metadata": {},
   "source": [
    "## Define a function for obtaining CASE and CAKE from linear site response analysis\n"
   ]
  },
  {
   "cell_type": "code",
   "execution_count": 4,
   "outputs": [],
   "source": [
    "def calc_case_and_cake_from_lin_analysis(sp, m):\n",
    "    \"\"\"\n",
    "    Compute the CASE and CAKE from a linear analysis\n",
    "\n",
    "    Parameters\n",
    "    ----------\n",
    "    sp: sm.SoilProfile object\n",
    "    m: pysra.Motion object\n",
    "\n",
    "    Returns\n",
    "    -------\n",
    "\n",
    "    \"\"\"\n",
    "    odepths = np.arange(0.5, int(sp.height - 1), 0.5)\n",
    "\n",
    "    oseries, profile, calc = run_sra(sp, m, odepths)\n",
    "\n",
    "    aew = []\n",
    "    acc_uke = []\n",
    "    up_uke = []\n",
    "    down_uke = []\n",
    "\n",
    "    for i, depth in enumerate(odepths):\n",
    "        acc_signal = eqsig.AccSignal(oseries[\"ACCX_d%i\" % i] * 9.8, m.time_step)\n",
    "        g_mod = profile.location('outcrop', depth=depth).layer.initial_shear_mod\n",
    "        rho = profile.location('outcrop', depth=depth).layer.unit_wt / 9.8\n",
    "\n",
    "        tau = oseries[\"TAU_d%i\" % i]\n",
    "        strain_energy = 0.5 * tau ** 2 / g_mod\n",
    "\n",
    "        delta_st_energy = np.diff(strain_energy)\n",
    "        delta_st_energy = np.insert(delta_st_energy, 0, 0)\n",
    "        cum_delta_st_energy = np.cumsum(abs(delta_st_energy))\n",
    "\n",
    "        up_acc_signal = eqsig.AccSignal(oseries[\"upACCX_d%i\" % i] * 9.8, m.time_step)\n",
    "        down_acc_signal = eqsig.AccSignal((oseries[\"upACCX_d%i\" % i] - oseries[\"ACCX_d%i\" % i]) * 9.8, m.time_step)\n",
    "\n",
    "        acc_uke.append(eqsig.im.calc_unit_kinetic_energy(acc_signal)[-1] * rho)\n",
    "        up_uke.append(eqsig.im.calc_unit_kinetic_energy(up_acc_signal)[-1] * rho)\n",
    "        down_uke.append(eqsig.im.calc_unit_kinetic_energy(down_acc_signal)[-1] * rho)\n",
    "\n",
    "        aew.append(cum_delta_st_energy[-1])\n",
    "\n",
    "    cake = np.array(aew)\n",
    "    case = np.array(acc_uke)\n",
    "\n",
    "    return odepths, case, cake\n"
   ],
   "metadata": {
    "collapsed": false,
    "pycharm": {
     "name": "#%%\n",
     "is_executing": false
    }
   }
  },
  {
   "cell_type": "markdown",
   "metadata": {},
   "source": [
    "## Define soil profile properties\n"
   ]
  },
  {
   "cell_type": "code",
   "execution_count": 5,
   "metadata": {
    "pycharm": {
     "is_executing": false
    }
   },
   "outputs": [],
   "source": [
    "damp = 0.03\n",
    "sp = sm.SoilProfile()  # Soil profile object\n",
    "# Top layer\n",
    "sl1 = sm.Soil(g_mod=40.0e6, unit_dry_weight=20.0e3)\n",
    "sl1.xi = damp\n",
    "sp.add_layer(depth=0, soil=sl1)\n",
    "# Middle layer - with lower shear modulus\n",
    "sl2 = sm.Soil(g_mod=30.0e6, unit_dry_weight=20.0e3)\n",
    "sl2.xi = damp\n",
    "sp.add_layer(depth=10, soil=sl2)\n",
    "# Bottom layer\n",
    "sl3 = sm.Soil(g_mod=40.0e6, unit_dry_weight=20.0e3)\n",
    "sl3.xi = damp\n",
    "sp.add_layer(depth=20, soil=sl3)\n",
    "sp.height = 30  # m\n"
   ]
  },
  {
   "cell_type": "markdown",
   "source": [
    "## Load ground motion and calculate the input CAKE"
   ],
   "metadata": {
    "collapsed": false,
    "pycharm": {
     "name": "#%% md\n"
    }
   }
  },
  {
   "cell_type": "code",
   "execution_count": 6,
   "outputs": [],
   "source": [
    "acc = np.loadtxt('test_motion_dt0p01.txt', skiprows=2)\n",
    "dt = 0.01\n",
    "\n",
    "# Create pysra motion object, Should be input as g\n",
    "m = pysra.motion.TimeSeriesMotion('test motion', description=None, time_step=dt, accels=acc / 9.8)\n",
    "\n",
    "# Calculate the input CAKE to normalise the plots\n",
    "in_signal = eqsig.AccSignal((m.accels / 2) * 9.8, m.time_step)  # Should be input as m/s2 (note divide by 2)\n",
    "rho = sp.layer(3).unit_dry_weight / 9.8\n",
    "in_uke = eqsig.im.calc_unit_kinetic_energy(in_signal)[-1]\n",
    "in_cake = in_uke * rho\n"
   ],
   "metadata": {
    "collapsed": false,
    "pycharm": {
     "name": "#%%\n",
     "is_executing": false
    }
   }
  },
  {
   "cell_type": "markdown",
   "source": [
    "## Perform linear site response analysis"
   ],
   "metadata": {
    "collapsed": false,
    "pycharm": {
     "name": "#%% md\n"
    }
   }
  },
  {
   "cell_type": "code",
   "execution_count": 7,
   "outputs": [],
   "source": [
    "odepths, cake_lin, case_lin = calc_case_and_cake_from_lin_analysis(sp, m)\n"
   ],
   "metadata": {
    "collapsed": false,
    "pycharm": {
     "name": "#%%\n",
     "is_executing": false
    }
   }
  },
  {
   "cell_type": "markdown",
   "source": [
    "## Estimate CASE and CAKE using the method from Millen et al. (2019)"
   ],
   "metadata": {
    "collapsed": false,
    "pycharm": {
     "name": "#%% md\n"
    }
   }
  },
  {
   "cell_type": "code",
   "execution_count": 8,
   "outputs": [],
   "source": [
    "# Estimate CASE and CAKE using the input motion\n",
    "pred_case_b = lq.trigger.nses.est_case_1d_millen_et_al_2019(sp, in_signal, odepths, xi=damp)[:, -1]\n",
    "pred_cake_b = lq.trigger.nses.est_case_1d_millen_et_al_2019(sp, in_signal, odepths, xi=damp, nodal=False)[:, -1]\n",
    "\n",
    "# get surface motion\n",
    "oseries, profile, calc = run_sra(sp, m, [0])\n",
    "surf_sig = eqsig.AccSignal(oseries[\"upACCX_d%i\" % 0] * 9.8, m.time_step)\n",
    "\n",
    "# Estimate CASE and CAKE using the surface motion\n",
    "pred_case_s = lq.trigger.nses.est_case_1d_millen_et_al_2019(sp, surf_sig, odepths, xi=damp, in_loc=0)[:, -1]\n",
    "\n",
    "pred_cake_s = lq.trigger.nses.est_case_1d_millen_et_al_2019(sp, surf_sig, odepths, xi=damp, in_loc=0,\n",
    "                                                          nodal=False)[:, -1]\n"
   ],
   "metadata": {
    "collapsed": false,
    "pycharm": {
     "name": "#%%\n",
     "is_executing": false
    }
   }
  },
  {
   "cell_type": "markdown",
   "source": [
    "## Plot the results"
   ],
   "metadata": {
    "collapsed": false,
    "pycharm": {
     "name": "#%% md\n"
    }
   }
  },
  {
   "cell_type": "code",
   "execution_count": 10,
   "outputs": [
    {
     "data": {
      "text/plain": "<Figure size 468x360 with 2 Axes>",
      "image/png": "[encoded data removed]"
     },
     "metadata": {},
     "output_type": "display_data"
    }
   ],
   "source": [
    "bf, sps = plt.subplots(ncols=2, nrows=1, figsize=(6.5, 5), squeeze=False)\n",
    "sps = sps.flatten()\n",
    "sps[0].plot(case_lin / in_cake, odepths, ls=\"-\", label=\"Linear analysis $\\\\xi={0:.0f}$%\".format(damp * 100), c=cbox(0), lw=1)\n",
    "sps[1].plot(cake_lin / in_cake, odepths, ls=\"-\", ms=2, label=\"Linear analysis $\\\\xi={0:.0f}$%\".format(damp * 100), c=cbox(0))\n",
    "sps[0].plot(pred_case_b / in_cake, odepths, 's', label=\"NSES Estimate (base)\", c=cbox(1), ms=3, alpha=0.6)\n",
    "sps[1].plot(pred_cake_b / in_cake, odepths, 's', label=\"ASES Estimate (base)\", c=cbox(1), ms=3, alpha=0.6)\n",
    "sps[0].plot(pred_case_s / in_cake, odepths, \"x\", ms=3, label=\"NSES Estimate (surf)\", c=cbox(3))\n",
    "sps[1].plot(pred_cake_s / in_cake, odepths, \"x\", ms=3, label=\"ASES Estimate (surf)\", c=cbox(3))\n",
    "\n",
    "# Clean plot\n",
    "sps[0].set_ylabel(\"Depth [m]\")\n",
    "sps[0].set_xlabel(\"$\\\\frac{CASE}{CAKE_{in}}$\")\n",
    "sps[1].set_xlabel(\"$\\\\frac{CAKE}{CAKE_{in}}$\")\n",
    "\n",
    "ef.revamp_legend(sps[0], prop={\"size\": 8}, loc=\"lower left\")\n",
    "ef.revamp_legend(sps[-1], prop={\"size\": 8}, loc=\"lower right\")\n",
    "\n",
    "for i in range(len(sps)):\n",
    "    ef.xy(sps[i], x_origin=True, y_origin=True)\n",
    "    sps[i].set_ylim([0, 30])\n",
    "    sps[i].invert_yaxis()\n",
    "    if i != 0:\n",
    "        sps[i].tick_params(axis='y', which='both', left=False, right=False, labelleft=False)\n",
    "plt.tight_layout()\n",
    "bf.subplots_adjust(wspace=0.05, hspace=0)\n",
    "plt.show()\n"
   ],
   "metadata": {
    "collapsed": false,
    "pycharm": {
     "name": "#%%\n",
     "is_executing": false
    }
   }
  },
  {
   "cell_type": "markdown",
   "source": [
    "## Estimate build up of CASE at a specific depth"
   ],
   "metadata": {
    "collapsed": false,
    "pycharm": {
     "name": "#%% md\n"
    }
   }
  },
  {
   "cell_type": "code",
   "execution_count": 13,
   "outputs": [
    {
     "data": {
      "text/plain": "<Figure size 432x288 with 2 Axes>",
      "image/png": "[encoded data removed]"
     },
     "metadata": {},
     "output_type": "display_data"
    }
   ],
   "source": [
    "y_depths = np.array([5.])  # compute at 5m\n",
    "pred_case_b = lq.trigger.nses.est_case_1d_millen_et_al_2019(sp, in_signal, odepths, xi=damp, start=True, trim=True)[0]\n",
    "\n",
    "bf, sps = plt.subplots(nrows=2, sharex='col')\n",
    "sps[0].plot(in_signal.time, pred_case_b, c=cbox(0), lw=1)\n",
    "sps[1].plot(in_signal.time, in_signal.values, c='k', lw=1)\n",
    "ef.xy(sps[0], x_origin=True)\n",
    "ef.xy(sps[-1], x_origin=True)\n",
    "sps[0].set_ylabel('$NCASE$')\n",
    "sps[1].set_ylabel('Acc [$m/s^2$]')\n",
    "a = sps[-1].set_xlabel('Time [s]')\n"
   ],
   "metadata": {
    "collapsed": false,
    "pycharm": {
     "name": "#%%\n",
     "is_executing": false
    }
   }
  },
  {
   "cell_type": "markdown",
   "source": [
    "References:\n",
    "\n",
    " - Millen, M. D. L., Rios, S., Quintero, J., & Viana Da Fonseca, A. (2019). Prediction of time of liquefaction using kinetic and strain energy. Soil Dynamics and Earthquake Engineering, 105898. http://doi.org/10.1016/j.soildyn.2019.105898"
   ],
   "metadata": {
    "collapsed": false,
    "pycharm": {
     "name": "#%% md\n"
    }
   }
  }
 ],
 "metadata": {
  "kernelspec": {
   "display_name": "Python 3",
   "language": "python",
   "name": "python3"
  },
  "language_info": {
   "codemirror_mode": {
    "name": "ipython",
    "version": 3
   },
   "file_extension": ".py",
   "mimetype": "text/x-python",
   "name": "python",
   "nbconvert_exporter": "python",
   "pygments_lexer": "ipython3",
   "version": "3.6.4"
  },
  "pycharm": {
   "stem_cell": {
    "cell_type": "raw",
    "source": [],
    "metadata": {
     "collapsed": false
    }
   }
  }
 },
 "nbformat": 4,
 "nbformat_minor": 1
}